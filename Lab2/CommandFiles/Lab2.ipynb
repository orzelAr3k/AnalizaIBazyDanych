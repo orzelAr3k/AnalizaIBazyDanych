{
 "cells": [
  {
   "cell_type": "code",
   "execution_count": 2,
   "source": [
    "import numpy as np\r\n",
    "import pandas as pd"
   ],
   "outputs": [],
   "metadata": {}
  },
  {
   "cell_type": "code",
   "execution_count": 3,
   "source": [
    "DIR = \"../AnalysisData/\""
   ],
   "outputs": [],
   "metadata": {}
  },
  {
   "cell_type": "code",
   "execution_count": 55,
   "source": [
    "weather = pd.read_table(f\"{DIR}weather.txt\", header=None)\r\n",
    "weather = weather[1668:1701]\r\n",
    "\r\n",
    "weather = weather[0].str.split(' ', expand=True)\r\n",
    "weather[0] = weather[0].str.split('-9999', expand=True)\r\n",
    "nan_value = float(\"NaN\")\r\n",
    "weather.replace([\"0\", \"-9999\", \"S\", \"S-9999\"], nan_value, inplace=True)\r\n",
    "weather.dropna(axis=1, how='any', thresh=None, subset=None, inplace=True)\r\n",
    "\r\n",
    "weather = weather.reset_index(drop=True)\r\n",
    "weather.columns = range(weather.shape[1])\r\n",
    "\r\n",
    "weather['Year'] = weather[0].str.slice(11,15)\r\n",
    "weather['Month'] = weather[0].str.slice(15,17)\r\n",
    "weather['Element'] = weather[0].str.slice(17,21)\r\n",
    "weather[0] = weather[0].str.slice(stop=11)\r\n",
    "weather.rename(columns={0: 'Id', 1: 'd1', 2: 'd2', 3: 'd3', 4: 'd4'}, inplace=True)\r\n",
    "weather = weather[[weather.columns[0], *weather.columns[5:8], *weather.columns[1:5]]]\r\n",
    "weather.iloc[:, 4:] = weather.iloc[:, 4:].apply(pd.to_numeric, errors='coerce')\r\n",
    "#weather.replace(np.nan, '-', inplace=True)\r\n",
    "weather.iloc[:, 4:].divide(10)\r\n",
    "\r\n",
    "\r\n",
    "\r\n",
    "\r\n",
    "weather.head()\r\n"
   ],
   "outputs": [
    {
     "output_type": "execute_result",
     "data": {
      "text/html": [
       "<div>\n",
       "<style scoped>\n",
       "    .dataframe tbody tr th:only-of-type {\n",
       "        vertical-align: middle;\n",
       "    }\n",
       "\n",
       "    .dataframe tbody tr th {\n",
       "        vertical-align: top;\n",
       "    }\n",
       "\n",
       "    .dataframe thead th {\n",
       "        text-align: right;\n",
       "    }\n",
       "</style>\n",
       "<table border=\"1\" class=\"dataframe\">\n",
       "  <thead>\n",
       "    <tr style=\"text-align: right;\">\n",
       "      <th></th>\n",
       "      <th>Id</th>\n",
       "      <th>Year</th>\n",
       "      <th>Month</th>\n",
       "      <th>Element</th>\n",
       "      <th>d1</th>\n",
       "      <th>d2</th>\n",
       "      <th>d3</th>\n",
       "      <th>d4</th>\n",
       "    </tr>\n",
       "  </thead>\n",
       "  <tbody>\n",
       "    <tr>\n",
       "      <th>0</th>\n",
       "      <td>MX000017004</td>\n",
       "      <td>2010</td>\n",
       "      <td>01</td>\n",
       "      <td>TMAX</td>\n",
       "      <td>NaN</td>\n",
       "      <td>NaN</td>\n",
       "      <td>NaN</td>\n",
       "      <td>NaN</td>\n",
       "    </tr>\n",
       "    <tr>\n",
       "      <th>1</th>\n",
       "      <td>MX000017004</td>\n",
       "      <td>2010</td>\n",
       "      <td>01</td>\n",
       "      <td>TMIN</td>\n",
       "      <td>NaN</td>\n",
       "      <td>NaN</td>\n",
       "      <td>NaN</td>\n",
       "      <td>NaN</td>\n",
       "    </tr>\n",
       "    <tr>\n",
       "      <th>2</th>\n",
       "      <td>MX000017004</td>\n",
       "      <td>2010</td>\n",
       "      <td>01</td>\n",
       "      <td>PRCP</td>\n",
       "      <td>NaN</td>\n",
       "      <td>NaN</td>\n",
       "      <td>NaN</td>\n",
       "      <td>NaN</td>\n",
       "    </tr>\n",
       "    <tr>\n",
       "      <th>3</th>\n",
       "      <td>MX000017004</td>\n",
       "      <td>2010</td>\n",
       "      <td>02</td>\n",
       "      <td>TMAX</td>\n",
       "      <td>NaN</td>\n",
       "      <td>NaN</td>\n",
       "      <td>273</td>\n",
       "      <td>NaN</td>\n",
       "    </tr>\n",
       "    <tr>\n",
       "      <th>4</th>\n",
       "      <td>MX000017004</td>\n",
       "      <td>2010</td>\n",
       "      <td>02</td>\n",
       "      <td>TMIN</td>\n",
       "      <td>NaN</td>\n",
       "      <td>NaN</td>\n",
       "      <td>144</td>\n",
       "      <td>NaN</td>\n",
       "    </tr>\n",
       "  </tbody>\n",
       "</table>\n",
       "</div>"
      ],
      "text/plain": [
       "            Id  Year Month Element   d1   d2   d3   d4\n",
       "0  MX000017004  2010    01    TMAX  NaN  NaN  NaN  NaN\n",
       "1  MX000017004  2010    01    TMIN  NaN  NaN  NaN  NaN\n",
       "2  MX000017004  2010    01    PRCP  NaN  NaN  NaN  NaN\n",
       "3  MX000017004  2010    02    TMAX  NaN  NaN  273  NaN\n",
       "4  MX000017004  2010    02    TMIN  NaN  NaN  144  NaN"
      ]
     },
     "metadata": {},
     "execution_count": 55
    }
   ],
   "metadata": {}
  }
 ],
 "metadata": {
  "orig_nbformat": 4,
  "language_info": {
   "name": "python",
   "version": "3.8.5",
   "mimetype": "text/x-python",
   "codemirror_mode": {
    "name": "ipython",
    "version": 3
   },
   "pygments_lexer": "ipython3",
   "nbconvert_exporter": "python",
   "file_extension": ".py"
  },
  "kernelspec": {
   "name": "python3",
   "display_name": "Python 3.8.5 64-bit ('base': conda)"
  },
  "interpreter": {
   "hash": "0c09852ad021e5bb306a37940819ff7b730eed21e9c310f453019a0c3effd102"
  }
 },
 "nbformat": 4,
 "nbformat_minor": 2
}