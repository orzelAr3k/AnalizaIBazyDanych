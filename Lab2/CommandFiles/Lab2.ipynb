{
 "cells": [
  {
   "cell_type": "code",
   "execution_count": 1,
   "source": [
    "import numpy as np\r\n",
    "import pandas as pd"
   ],
   "outputs": [],
   "metadata": {}
  },
  {
   "cell_type": "code",
   "execution_count": 2,
   "source": [
    "DIR = \"../AnalysisData/\""
   ],
   "outputs": [],
   "metadata": {}
  },
  {
   "cell_type": "code",
   "execution_count": 122,
   "source": [
    "weather = pd.read_table(f\"{DIR}weather.txt\", header=None)\r\n",
    "weather = weather[1668:1701]\r\n",
    "\r\n",
    "weather = weather[0].str.split(' ', expand=True)\r\n",
    "weather[0] = weather[0].str.split('-9999', expand=True)\r\n",
    "nan_value = float(\"NaN\")\r\n",
    "weather.replace([\"0\", \"-9999\", \"S\", \"S-9999\"], nan_value, inplace=True)\r\n",
    "weather.dropna(axis=1, how='any', thresh=None, subset=None, inplace=True)\r\n",
    "\r\n",
    "weather = weather.reset_index(drop=True)\r\n",
    "weather.columns = range(weather.shape[1])\r\n",
    "\r\n",
    "weather['Year'] = weather[0].str.slice(11,15)\r\n",
    "weather['Month'] = weather[0].str.slice(15,17)\r\n",
    "weather['Element'] = weather[0].str.slice(17,21)\r\n",
    "weather['Id'] = weather[0].str.slice(stop=11)\r\n",
    "\r\n",
    "\r\n",
    "print(weather)"
   ],
   "outputs": [
    {
     "output_type": "stream",
     "name": "stdout",
     "text": [
      "                        0 1    2    3    4  Year Month Element           Id\n",
      "0   MX000017004201001TMAX                   2010    01    TMAX  MX000017004\n",
      "1   MX000017004201001TMIN                   2010    01    TMIN  MX000017004\n",
      "2   MX000017004201001PRCP                   2010    01    PRCP  MX000017004\n",
      "3   MX000017004201002TMAX         273       2010    02    TMAX  MX000017004\n",
      "4   MX000017004201002TMIN         144       2010    02    TMIN  MX000017004\n",
      "5   MX000017004201002PRCP                   2010    02    PRCP  MX000017004\n",
      "6   MX000017004201003TMAX                   2010    03    TMAX  MX000017004\n",
      "7   MX000017004201003TMIN                   2010    03    TMIN  MX000017004\n",
      "8   MX000017004201003PRCP                   2010    03    PRCP  MX000017004\n",
      "9   MX000017004201004TMAX                   2010    04    TMAX  MX000017004\n",
      "10  MX000017004201004TMIN                   2010    04    TMIN  MX000017004\n",
      "11  MX000017004201004PRCP                   2010    04    PRCP  MX000017004\n",
      "12  MX000017004201005TMAX                   2010    05    TMAX  MX000017004\n",
      "13  MX000017004201005TMIN                   2010    05    TMIN  MX000017004\n",
      "14  MX000017004201005PRCP                   2010    05    PRCP  MX000017004\n",
      "15  MX000017004201006TMAX                   2010    06    TMAX  MX000017004\n",
      "16  MX000017004201006TMIN                   2010    06    TMIN  MX000017004\n",
      "17  MX000017004201006PRCP                   2010    06    PRCP  MX000017004\n",
      "18  MX000017004201007TMAX              286  2010    07    TMAX  MX000017004\n",
      "19  MX000017004201007TMIN              175  2010    07    TMIN  MX000017004\n",
      "20  MX000017004201007PRCP              307  2010    07    PRCP  MX000017004\n",
      "21  MX000017004201008TMAX                   2010    08    TMAX  MX000017004\n",
      "22  MX000017004201008TMIN                   2010    08    TMIN  MX000017004\n",
      "23  MX000017004201008PRCP                   2010    08    PRCP  MX000017004\n",
      "24  MX000017004201009PRCP    185            2010    09    PRCP  MX000017004\n",
      "25  MX000017004201010TMAX                   2010    10    TMAX  MX000017004\n",
      "26  MX000017004201010TMIN                   2010    10    TMIN  MX000017004\n",
      "27  MX000017004201010PRCP                   2010    10    PRCP  MX000017004\n",
      "28  MX000017004201011TMAX         313       2010    11    TMAX  MX000017004\n",
      "29  MX000017004201011TMIN         163       2010    11    TMIN  MX000017004\n",
      "30  MX000017004201011PRCP                   2010    11    PRCP  MX000017004\n",
      "31  MX000017004201012TMAX    299            2010    12    TMAX  MX000017004\n",
      "32  MX000017004201012TMIN    138            2010    12    TMIN  MX000017004\n"
     ]
    }
   ],
   "metadata": {}
  }
 ],
 "metadata": {
  "orig_nbformat": 4,
  "language_info": {
   "name": "python",
   "version": "3.8.5",
   "mimetype": "text/x-python",
   "codemirror_mode": {
    "name": "ipython",
    "version": 3
   },
   "pygments_lexer": "ipython3",
   "nbconvert_exporter": "python",
   "file_extension": ".py"
  },
  "kernelspec": {
   "name": "python3",
   "display_name": "Python 3.8.5 64-bit ('base': conda)"
  },
  "interpreter": {
   "hash": "0c09852ad021e5bb306a37940819ff7b730eed21e9c310f453019a0c3effd102"
  }
 },
 "nbformat": 4,
 "nbformat_minor": 2
}